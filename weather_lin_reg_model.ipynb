{
 "cells": [
  {
   "cell_type": "markdown",
   "metadata": {},
   "source": [
    "# Linear Regression model "
   ]
  },
  {
   "cell_type": "markdown",
   "metadata": {},
   "source": [
    "We upload our cleaned datas and perform a linear regression model. "
   ]
  },
  {
   "cell_type": "code",
   "execution_count": 1,
   "metadata": {
    "collapsed": true
   },
   "outputs": [],
   "source": [
    "import numpy as np\n",
    "import pandas as pd\n",
    "from datetime import datetime, timedelta\n",
    "import matplotlib.pyplot as plt"
   ]
  },
  {
   "cell_type": "code",
   "execution_count": 2,
   "metadata": {},
   "outputs": [
    {
     "name": "stdout",
     "output_type": "stream",
     "text": [
      "<class 'pandas.core.frame.DataFrame'>\n",
      "DatetimeIndex: 15185 entries, 1979-01-04 to 2020-07-31\n",
      "Data columns (total 10 columns):\n",
      "wind_speed_1    15185 non-null float64\n",
      "wind_speed_2    15185 non-null float64\n",
      "wind_speed_3    15185 non-null float64\n",
      "snow_1h_1       15185 non-null float64\n",
      "snow_1h_2       15185 non-null float64\n",
      "snow_1h_3       15185 non-null float64\n",
      "temp_1          15185 non-null float64\n",
      "temp_2          15185 non-null float64\n",
      "temp_3          15185 non-null float64\n",
      "temp            15185 non-null float64\n",
      "dtypes: float64(10)\n",
      "memory usage: 1.3 MB\n"
     ]
    }
   ],
   "source": [
    "df_lr = pd.read_csv('weather_data_lin_reg.csv')\n",
    "df_lr['dt_iso'] = pd.to_datetime(df_lr['dt_iso'], format='%Y-%m-%d %H:%M:%S.%f')\n",
    "df_lr = df_lr.set_index('dt_iso')\n",
    "df_lr.info()"
   ]
  },
  {
   "cell_type": "code",
   "execution_count": 3,
   "metadata": {
    "collapsed": true
   },
   "outputs": [],
   "source": [
    "# Import the libraries\n",
    "from sklearn.linear_model import LinearRegression\n",
    "from sklearn.model_selection import train_test_split"
   ]
  },
  {
   "cell_type": "markdown",
   "metadata": {},
   "source": [
    "We isolate the dependant variable 'temp' and the independant variables."
   ]
  },
  {
   "cell_type": "code",
   "execution_count": 4,
   "metadata": {},
   "outputs": [],
   "source": [
    "X = df_lr[['wind_speed_1', 'wind_speed_2', 'wind_speed_3','snow_1h_1', 'snow_1h_2', 'snow_1h_3', 'temp_1', 'temp_2', 'temp_3']]\n",
    "y = df_lr[['temp']]"
   ]
  },
  {
   "cell_type": "code",
   "execution_count": 5,
   "metadata": {},
   "outputs": [
    {
     "name": "stdout",
     "output_type": "stream",
     "text": [
      "<class 'pandas.core.frame.DataFrame'>\n",
      "DatetimeIndex: 15185 entries, 1979-01-04 to 2020-07-31\n",
      "Data columns (total 9 columns):\n",
      "wind_speed_1    15185 non-null float64\n",
      "wind_speed_2    15185 non-null float64\n",
      "wind_speed_3    15185 non-null float64\n",
      "snow_1h_1       15185 non-null float64\n",
      "snow_1h_2       15185 non-null float64\n",
      "snow_1h_3       15185 non-null float64\n",
      "temp_1          15185 non-null float64\n",
      "temp_2          15185 non-null float64\n",
      "temp_3          15185 non-null float64\n",
      "dtypes: float64(9)\n",
      "memory usage: 1.2 MB\n"
     ]
    }
   ],
   "source": [
    "X.info()"
   ]
  },
  {
   "cell_type": "code",
   "execution_count": 6,
   "metadata": {},
   "outputs": [
    {
     "name": "stdout",
     "output_type": "stream",
     "text": [
      "<class 'pandas.core.frame.DataFrame'>\n",
      "DatetimeIndex: 15185 entries, 1979-01-04 to 2020-07-31\n",
      "Data columns (total 1 columns):\n",
      "temp    15185 non-null float64\n",
      "dtypes: float64(1)\n",
      "memory usage: 237.3 KB\n"
     ]
    }
   ],
   "source": [
    "y.info()"
   ]
  },
  {
   "cell_type": "markdown",
   "metadata": {},
   "source": [
    "We split our data set into a train set, validation set and test set. "
   ]
  },
  {
   "cell_type": "code",
   "execution_count": 7,
   "metadata": {},
   "outputs": [],
   "source": [
    "#train_ratio = 0.7\n",
    "#validation_ratio = 0.2\n",
    "#test_ratio = 0.1\n",
    "\n",
    "x_train, x_test, y_train, y_test = train_test_split(X, y, test_size=0.2, random_state=42)\n",
    "\n",
    "#x_val, x_test, y_val, y_test = train_test_split(x_test, y_test, test_size=test_ratio/(test_ratio + validation_ratio), random_state=42) "
   ]
  },
  {
   "cell_type": "code",
   "execution_count": 8,
   "metadata": {},
   "outputs": [
    {
     "name": "stdout",
     "output_type": "stream",
     "text": [
      "<class 'pandas.core.frame.DataFrame'>\n",
      "DatetimeIndex: 12148 entries, 2016-06-05 to 1998-11-30\n",
      "Data columns (total 9 columns):\n",
      "wind_speed_1    12148 non-null float64\n",
      "wind_speed_2    12148 non-null float64\n",
      "wind_speed_3    12148 non-null float64\n",
      "snow_1h_1       12148 non-null float64\n",
      "snow_1h_2       12148 non-null float64\n",
      "snow_1h_3       12148 non-null float64\n",
      "temp_1          12148 non-null float64\n",
      "temp_2          12148 non-null float64\n",
      "temp_3          12148 non-null float64\n",
      "dtypes: float64(9)\n",
      "memory usage: 949.1 KB\n"
     ]
    }
   ],
   "source": [
    "x_train.info()"
   ]
  },
  {
   "cell_type": "code",
   "execution_count": 9,
   "metadata": {},
   "outputs": [],
   "source": [
    "#x_val.info()"
   ]
  },
  {
   "cell_type": "code",
   "execution_count": 10,
   "metadata": {},
   "outputs": [
    {
     "name": "stdout",
     "output_type": "stream",
     "text": [
      "<class 'pandas.core.frame.DataFrame'>\n",
      "DatetimeIndex: 3037 entries, 2013-01-07 to 2005-06-02\n",
      "Data columns (total 9 columns):\n",
      "wind_speed_1    3037 non-null float64\n",
      "wind_speed_2    3037 non-null float64\n",
      "wind_speed_3    3037 non-null float64\n",
      "snow_1h_1       3037 non-null float64\n",
      "snow_1h_2       3037 non-null float64\n",
      "snow_1h_3       3037 non-null float64\n",
      "temp_1          3037 non-null float64\n",
      "temp_2          3037 non-null float64\n",
      "temp_3          3037 non-null float64\n",
      "dtypes: float64(9)\n",
      "memory usage: 237.3 KB\n"
     ]
    }
   ],
   "source": [
    "x_test.info()"
   ]
  },
  {
   "cell_type": "code",
   "execution_count": 11,
   "metadata": {},
   "outputs": [
    {
     "name": "stdout",
     "output_type": "stream",
     "text": [
      "<class 'pandas.core.frame.DataFrame'>\n",
      "DatetimeIndex: 12148 entries, 2016-06-05 to 1998-11-30\n",
      "Data columns (total 1 columns):\n",
      "temp    12148 non-null float64\n",
      "dtypes: float64(1)\n",
      "memory usage: 189.8 KB\n"
     ]
    }
   ],
   "source": [
    "y_train.info()"
   ]
  },
  {
   "cell_type": "code",
   "execution_count": 12,
   "metadata": {},
   "outputs": [],
   "source": [
    "#y_val.info()"
   ]
  },
  {
   "cell_type": "code",
   "execution_count": 13,
   "metadata": {},
   "outputs": [
    {
     "name": "stdout",
     "output_type": "stream",
     "text": [
      "<class 'pandas.core.frame.DataFrame'>\n",
      "DatetimeIndex: 3037 entries, 2013-01-07 to 2005-06-02\n",
      "Data columns (total 1 columns):\n",
      "temp    3037 non-null float64\n",
      "dtypes: float64(1)\n",
      "memory usage: 47.5 KB\n"
     ]
    }
   ],
   "source": [
    "y_test.info()"
   ]
  },
  {
   "cell_type": "markdown",
   "metadata": {},
   "source": [
    "We fit a linear regression model on our training set. "
   ]
  },
  {
   "cell_type": "code",
   "execution_count": 14,
   "metadata": {
    "collapsed": true
   },
   "outputs": [],
   "source": [
    "lm = LinearRegression()\n",
    "model = lm.fit(x_train, y_train)"
   ]
  },
  {
   "cell_type": "code",
   "execution_count": 15,
   "metadata": {},
   "outputs": [
    {
     "name": "stdout",
     "output_type": "stream",
     "text": [
      "11.6965051431\n"
     ]
    }
   ],
   "source": [
    "pred = model.predict(x_test)\n",
    "\n",
    "from sklearn.metrics import mean_squared_error\n",
    "\n",
    "MSE = mean_squared_error(y_test, pred)\n",
    "    \n",
    "print(MSE)"
   ]
  },
  {
   "cell_type": "code",
   "execution_count": 16,
   "metadata": {},
   "outputs": [
    {
     "data": {
      "text/plain": [
       "array([[ 265.25218373],\n",
       "       [ 276.37709173],\n",
       "       [ 269.0409575 ],\n",
       "       ..., \n",
       "       [ 281.82027543],\n",
       "       [ 279.87635735],\n",
       "       [ 292.21750244]])"
      ]
     },
     "execution_count": 16,
     "metadata": {},
     "output_type": "execute_result"
    }
   ],
   "source": [
    "pred"
   ]
  },
  {
   "cell_type": "code",
   "execution_count": 17,
   "metadata": {},
   "outputs": [
    {
     "data": {
      "text/html": [
       "<div>\n",
       "<style scoped>\n",
       "    .dataframe tbody tr th:only-of-type {\n",
       "        vertical-align: middle;\n",
       "    }\n",
       "\n",
       "    .dataframe tbody tr th {\n",
       "        vertical-align: top;\n",
       "    }\n",
       "\n",
       "    .dataframe thead th {\n",
       "        text-align: right;\n",
       "    }\n",
       "</style>\n",
       "<table border=\"1\" class=\"dataframe\">\n",
       "  <thead>\n",
       "    <tr style=\"text-align: right;\">\n",
       "      <th></th>\n",
       "      <th>temp</th>\n",
       "    </tr>\n",
       "    <tr>\n",
       "      <th>dt_iso</th>\n",
       "      <th></th>\n",
       "    </tr>\n",
       "  </thead>\n",
       "  <tbody>\n",
       "    <tr>\n",
       "      <th>2013-01-07</th>\n",
       "      <td>261.667917</td>\n",
       "    </tr>\n",
       "    <tr>\n",
       "      <th>2009-10-18</th>\n",
       "      <td>275.703750</td>\n",
       "    </tr>\n",
       "    <tr>\n",
       "      <th>1995-12-02</th>\n",
       "      <td>269.072500</td>\n",
       "    </tr>\n",
       "    <tr>\n",
       "      <th>1989-07-03</th>\n",
       "      <td>295.644583</td>\n",
       "    </tr>\n",
       "    <tr>\n",
       "      <th>1997-06-27</th>\n",
       "      <td>292.361250</td>\n",
       "    </tr>\n",
       "    <tr>\n",
       "      <th>...</th>\n",
       "      <td>...</td>\n",
       "    </tr>\n",
       "    <tr>\n",
       "      <th>2006-03-19</th>\n",
       "      <td>267.111250</td>\n",
       "    </tr>\n",
       "    <tr>\n",
       "      <th>1983-02-10</th>\n",
       "      <td>255.195833</td>\n",
       "    </tr>\n",
       "    <tr>\n",
       "      <th>1997-05-23</th>\n",
       "      <td>284.936250</td>\n",
       "    </tr>\n",
       "    <tr>\n",
       "      <th>2008-04-08</th>\n",
       "      <td>280.783333</td>\n",
       "    </tr>\n",
       "    <tr>\n",
       "      <th>2005-06-02</th>\n",
       "      <td>293.006250</td>\n",
       "    </tr>\n",
       "  </tbody>\n",
       "</table>\n",
       "<p>3037 rows × 1 columns</p>\n",
       "</div>"
      ],
      "text/plain": [
       "                  temp\n",
       "dt_iso                \n",
       "2013-01-07  261.667917\n",
       "2009-10-18  275.703750\n",
       "1995-12-02  269.072500\n",
       "1989-07-03  295.644583\n",
       "1997-06-27  292.361250\n",
       "...                ...\n",
       "2006-03-19  267.111250\n",
       "1983-02-10  255.195833\n",
       "1997-05-23  284.936250\n",
       "2008-04-08  280.783333\n",
       "2005-06-02  293.006250\n",
       "\n",
       "[3037 rows x 1 columns]"
      ]
     },
     "execution_count": 17,
     "metadata": {},
     "output_type": "execute_result"
    }
   ],
   "source": [
    "y_test"
   ]
  },
  {
   "cell_type": "code",
   "execution_count": 18,
   "metadata": {},
   "outputs": [
    {
     "name": "stdout",
     "output_type": "stream",
     "text": [
      "The Explained Variance: 0.91\n",
      "The Mean Absolute Error: 2.56 degrees celsius\n",
      "The Median Absolute Error: 1.93 degrees celsius\n"
     ]
    }
   ],
   "source": [
    "from sklearn.metrics import mean_absolute_error, median_absolute_error\n",
    "print(\"The Explained Variance: %.2f\" % lm.score(x_test, y_test))\n",
    "print(\"The Mean Absolute Error: %.2f degrees celsius\" % mean_absolute_error(y_test, pred))\n",
    "print(\"The Median Absolute Error: %.2f degrees celsius\" % median_absolute_error(y_test, pred))"
   ]
  },
  {
   "cell_type": "markdown",
   "metadata": {},
   "source": [
    "We compare with a very simple prediction model. This model predicts that the temperature is the same as the temperature the previous day. "
   ]
  },
  {
   "cell_type": "code",
   "execution_count": 19,
   "metadata": {},
   "outputs": [
    {
     "data": {
      "text/plain": [
       "dt_iso\n",
       "2013-01-07    264.034167\n",
       "2009-10-18    274.977083\n",
       "1995-12-02    270.730769\n",
       "1989-07-03    294.348400\n",
       "1997-06-27    297.340833\n",
       "Name: temp_1, dtype: float64"
      ]
     },
     "execution_count": 19,
     "metadata": {},
     "output_type": "execute_result"
    }
   ],
   "source": [
    "pred_naive = x_test['temp_1']\n",
    "pred_naive.head()"
   ]
  },
  {
   "cell_type": "code",
   "execution_count": 20,
   "metadata": {},
   "outputs": [
    {
     "name": "stdout",
     "output_type": "stream",
     "text": [
      "The Mean Absolute Error: 2.82 degrees celsius\n",
      "The Median Absolute Error: 2.10 degrees celsius\n"
     ]
    }
   ],
   "source": [
    "print(\"The Mean Absolute Error: %.2f degrees celsius\" % mean_absolute_error(y_test, pred_naive))\n",
    "print(\"The Median Absolute Error: %.2f degrees celsius\" % median_absolute_error(y_test, pred_naive))"
   ]
  },
  {
   "cell_type": "markdown",
   "metadata": {},
   "source": [
    "We see that our model does slightly better than the naive approach."
   ]
  },
  {
   "cell_type": "code",
   "execution_count": 21,
   "metadata": {
    "collapsed": true
   },
   "outputs": [],
   "source": [
    "#Next: find more statistical test to check if model is good. Check how to improve model (maybe regularisation e.g.).\n",
    "#Also, do better with the cross-validation\n",
    "#Make sure everything is okay. \n",
    "#Do an explicit prediction."
   ]
  },
  {
   "cell_type": "code",
   "execution_count": null,
   "metadata": {
    "collapsed": true
   },
   "outputs": [],
   "source": []
  }
 ],
 "metadata": {
  "kernelspec": {
   "display_name": "Python 3",
   "language": "python",
   "name": "python3"
  },
  "language_info": {
   "codemirror_mode": {
    "name": "ipython",
    "version": 3
   },
   "file_extension": ".py",
   "mimetype": "text/x-python",
   "name": "python",
   "nbconvert_exporter": "python",
   "pygments_lexer": "ipython3",
   "version": "3.6.1"
  }
 },
 "nbformat": 4,
 "nbformat_minor": 2
}
