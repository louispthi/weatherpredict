{
 "cells": [
  {
   "cell_type": "markdown",
   "metadata": {},
   "source": [
    "# Cleaning datas "
   ]
  },
  {
   "cell_type": "markdown",
   "metadata": {},
   "source": [
    "We obtained historical weather datas for Montreal from OpenWeatherMap. The datas are from January 1st, 1979 to July 31st, 2020. \n",
    "\n",
    "The collected features are: \n",
    "\n",
    "- <code> city_name </code> City name\n",
    "- <code> lat </code> Geographical coordinates of the location (latitude)\n",
    "- <code> lon </code> Geographical coordinates of the location (longitude)\n",
    "- <code> main </code>\n",
    "    - <code> main.temp </code> Temperature\n",
    "    - <code> main.feels_like </code> This temperature parameter accounts for the human perception of weather\n",
    "    - <code> main.pressure </code> Atmospheric pressure (on the sea level), hPa\n",
    "    - <code> main.humidity </code> Humidity, %\n",
    "    - <code> main.temp_min </code> Minimum temperature at the moment. This is deviation from temperature that is possible for large cities and megalopolises geographically expanded (use these parameter optionally).\n",
    "    - <code> main.temp_max </code> Maximum temperature at the moment. This is deviation from temperature that is possible for large cities and megalopolises geographically expanded (use these parameter optionally).\n",
    "- <code> wind </code>\n",
    "    - <code> wind.speed </code> Wind speed. Unit Default: meter/sec\n",
    "    - <code> wind.deg </code> Wind direction, degrees (meteorological)\n",
    "- <code> clouds </code>\n",
    "    - <code> clouds.all </code> Cloudiness, %\n",
    "- <code> rain </code>\n",
    "    - <code> rain.1h </code> Rain volume for the last hour, mm\n",
    "    - <code> rain.3h </code> Rain volume for the last 3 hours, mm\n",
    "- <code> snow </code>\n",
    "    - <code> snow.1h </code> Snow volume for the last hour, mm (in liquid state)\n",
    "    - <code> snow.3h </code> Snow volume for the last 3 hours, mm (in liquid state)\n",
    "- <code> weather </code> \n",
    "    - <code> weather.id </code> Weather condition id\n",
    "    - <code> weather.main </code> Group of weather parameters (Rain, Snow, Extreme etc.)\n",
    "    - <code> weather.description </code> Weather condition within the group\n",
    "    - <code> weather.icon </code> Weather icon id\n",
    "- <code> dt </code> Time of data calculation, unix, UTC\n",
    "- <code> dt_iso </code> Date and time in UTC format\n",
    "- <code> timezone </code> Shift in seconds from UTC\n",
    "\n",
    "The explanation for the weather condition id and icon id can be found here: https://openweathermap.org/weather-conditions"
   ]
  },
  {
   "cell_type": "markdown",
   "metadata": {},
   "source": [
    "We import the useful libraries. "
   ]
  },
  {
   "cell_type": "code",
   "execution_count": 1,
   "metadata": {
    "collapsed": true
   },
   "outputs": [],
   "source": [
    "import numpy as np\n",
    "import pandas as pd\n",
    "from datetime import datetime, timedelta\n",
    "import time\n",
    "import matplotlib.pyplot as plt"
   ]
  },
  {
   "cell_type": "markdown",
   "metadata": {},
   "source": [
    "We read the csv file."
   ]
  },
  {
   "cell_type": "code",
   "execution_count": 2,
   "metadata": {},
   "outputs": [
    {
     "name": "stdout",
     "output_type": "stream",
     "text": [
      "Number of Entries = 373025\n",
      "Data Shape = (373025, 25)\n",
      "Index(['dt', 'dt_iso', 'timezone', 'city_name', 'lat', 'lon', 'temp',\n",
      "       'feels_like', 'temp_min', 'temp_max', 'pressure', 'sea_level',\n",
      "       'grnd_level', 'humidity', 'wind_speed', 'wind_deg', 'rain_1h',\n",
      "       'rain_3h', 'snow_1h', 'snow_3h', 'clouds_all', 'weather_id',\n",
      "       'weather_main', 'weather_description', 'weather_icon'],\n",
      "      dtype='object')\n"
     ]
    }
   ],
   "source": [
    "df_data = pd.read_csv('weather_data_montreal.csv')\n",
    "\n",
    "print('Number of Entries = {}'.format(df_data.shape[0]))\n",
    "print('Data Shape = {}'.format(df_data.shape))\n",
    "print(df_data.columns)"
   ]
  },
  {
   "cell_type": "markdown",
   "metadata": {},
   "source": [
    "We split into a training set, a cross-validation set and a test set. "
   ]
  },
  {
   "cell_type": "code",
   "execution_count": null,
   "metadata": {
    "collapsed": true
   },
   "outputs": [],
   "source": []
  }
 ],
 "metadata": {
  "kernelspec": {
   "display_name": "Python 3",
   "language": "python",
   "name": "python3"
  },
  "language_info": {
   "codemirror_mode": {
    "name": "ipython",
    "version": 3
   },
   "file_extension": ".py",
   "mimetype": "text/x-python",
   "name": "python",
   "nbconvert_exporter": "python",
   "pygments_lexer": "ipython3",
   "version": "3.6.1"
  }
 },
 "nbformat": 4,
 "nbformat_minor": 2
}
